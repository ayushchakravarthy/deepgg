{
 "cells": [
  {
   "cell_type": "code",
   "execution_count": 25,
   "metadata": {},
   "outputs": [],
   "source": [
    "import os\n",
    "import random\n",
    "import time\n",
    "import collections\n",
    "import torch\n",
    "import itertools\n",
    "import numpy as np\n",
    "import networkx as nx\n",
    "import matplotlib.pyplot as plt\n",
    "import torch\n",
    "import dgl\n",
    "import json\n",
    "import pickle\n",
    "\n",
    "from innvariant_dgl.deepgg import DeepGG\n",
    "from scipy.stats import entropy\n",
    "from innvariant_dgl.dataset import ConstructionSequenceDataset, generate_ba_model_construction_sequence, graph_to_construction_sequence, construction_sequence_to_graph, generate_ws_model_construction_sequence\n",
    "from tqdm import tqdm"
   ]
  },
  {
   "cell_type": "code",
   "execution_count": 2,
   "metadata": {},
   "outputs": [],
   "source": [
    "computation_base_paths = [\n",
    "    '/media/data/computations/inn02-deep-graph-learning/drogon/',\n",
    "    '/media/data/computations/inn02-deep-graph-learning/mackenzie/'\n",
    "]"
   ]
  },
  {
   "cell_type": "code",
   "execution_count": 34,
   "metadata": {
    "scrolled": false
   },
   "outputs": [],
   "source": [
    "\"\"\"\n",
    "Build up a mapping of [path] -> {\n",
    "  'meta': {meta_dict from metadata file}\n",
    "  'dataset_cs': [list of graphs in cs-form],\n",
    "  'dataset_graph': [list of graphs],\n",
    "  'generated_cs': [list of generated graphs in cs-form],\n",
    "  'generated_graph': [list of generated graphs],\n",
    "  'computation_time': float in secs given start_time of computation and creation time of generated graphs\n",
    "}\n",
    "\"\"\"\n",
    "\n",
    "computations = {}\n",
    "for base_path in computation_base_paths:\n",
    "    for filename in os.listdir(base_path):\n",
    "        if '-metadata-' in filename: \n",
    "            meta_file_path = os.path.join(base_path, filename)\n",
    "            with open(meta_file_path, 'r') as mh:\n",
    "                info_meta = json.load(mh)\n",
    "                \n",
    "            file_name_meta = filename\n",
    "            file_name_generated = info_meta['files']['generated_file_name']\n",
    "            file_name_model = info_meta['files']['model_file_name']\n",
    "            file_name_dataset = info_meta['files']['dataset_file_name']\n",
    "            \n",
    "            if any([os.stat(os.path.join(base_path, name)).st_size < 1 for name in [file_name_meta, file_name_generated, file_name_model, file_name_dataset]]):\n",
    "                # Skip whole computation if we have an empty file\n",
    "                continue\n",
    "            \n",
    "            with open(os.path.join(base_path, file_name_generated)) as gh:\n",
    "                info_generated = json.load(gh)\n",
    "            \n",
    "            with open(os.path.join(base_path, file_name_dataset)) as gh:\n",
    "                info_dataset = json.load(gh)\n",
    "            \n",
    "            computation_time = info_generated['creation_time']-info_meta['start_time']\n",
    "\n",
    "            computations[filename] = {\n",
    "                'meta': info_meta,\n",
    "                'base_path': base_path,\n",
    "                'dataset_cs': info_dataset['construction_sequences'],\n",
    "                'generated_cs': info_generated['construction_sequences'],\n",
    "                'computation_time': computation_time\n",
    "            }"
   ]
  },
  {
   "cell_type": "code",
   "execution_count": 35,
   "metadata": {},
   "outputs": [
    {
     "name": "stdout",
     "output_type": "stream",
     "text": [
      "{'start_time': 1589810152.43036, 'params': {'param_train_epochs': 8, 'param_learning_rate': 0.0001, 'param_deepgg_prop_rounds': 2, 'param_deepgg_v_max': 150, 'param_deepgg_node_hidden_size': 16, 'param_deepgg_generate_size': 200, 'param_deepgg_generate_v_min': 0, 'param_dataset_size': 1000, 'param_model_num_v': 50, 'param_model_num_v_min': 50, 'param_model_num_v_max': 50, 'param_model_er_p': 0.2, 'param_model_ws_k': 10, 'param_model_ws_p': 0.2, 'param_model_ba_m': 3, 'param_selected_model': 'generate_seqs_watts_strogatz_dfs', 'param_device': 'cuda:7'}, 'hyperparams': {'hp_deepgg_generate_v_min_range': [0, 40, 10], 'hp_dataset_size_range': [500, 2001, 500], 'hp_model_num_v_min_range': [20, 50, 5], 'hp_model_num_v_max_range': [50, 151, 10], 'hp_model_er_p_range': [0.1, 0.9, 0.2], 'hp_model_ws_k_range': [3, 12, 1], 'hp_model_ws_p_range': [0.1, 0.9, 0.2], 'hp_model_ba_m_range': [2, 9, 1]}, 'files': {'dataset_file_name': 'deepgg-t1589810152-ds-1000-generate_seqs_watts_strogatz_dfs.json', 'dataset_file_path': 'data/deepgg-t1589810152-ds-1000-generate_seqs_watts_strogatz_dfs.json', 'model_file_name': 'deepgg-t1589810152-model-generate_seqs_watts_strogatz_dfs.pth', 'model_file_path': 'data/deepgg-t1589810152-model-generate_seqs_watts_strogatz_dfs.pth', 'meta_file_name': 'deepgg-t1589810152-metadata-generate_seqs_watts_strogatz_dfs.json', 'meta_file_path': 'data/deepgg-t1589810152-metadata-generate_seqs_watts_strogatz_dfs.json', 'generated_file_name': 'deepgg-t1589810152-generated-generate_seqs_watts_strogatz_dfs.json', 'generated_file_path': 'data/deepgg-t1589810152-generated-generate_seqs_watts_strogatz_dfs.json'}}\n"
     ]
    }
   ],
   "source": [
    "selected_filename = next(iter(computations))\n",
    "print(computations[selected_filename]['meta'])"
   ]
  },
  {
   "cell_type": "code",
   "execution_count": 36,
   "metadata": {},
   "outputs": [],
   "source": [
    "with open('deepgg-combined.pkl', 'wb') as write_handle:\n",
    "    pickle.dump(computations, write_handle)"
   ]
  },
  {
   "cell_type": "code",
   "execution_count": null,
   "metadata": {},
   "outputs": [],
   "source": []
  }
 ],
 "metadata": {
  "kernelspec": {
   "display_name": "Python 3",
   "language": "python",
   "name": "python3"
  },
  "language_info": {
   "codemirror_mode": {
    "name": "ipython",
    "version": 3
   },
   "file_extension": ".py",
   "mimetype": "text/x-python",
   "name": "python",
   "nbconvert_exporter": "python",
   "pygments_lexer": "ipython3",
   "version": "3.8.3"
  }
 },
 "nbformat": 4,
 "nbformat_minor": 4
}
