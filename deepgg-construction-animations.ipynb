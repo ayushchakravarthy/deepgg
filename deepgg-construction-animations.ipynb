{
 "cells": [
  {
   "cell_type": "code",
   "execution_count": 1,
   "metadata": {},
   "outputs": [],
   "source": [
    "import os\n",
    "import random\n",
    "import time\n",
    "import collections\n",
    "import itertools\n",
    "import numpy as np\n",
    "import networkx as nx\n",
    "import matplotlib.pyplot as plt\n",
    "import matplotlib.animation as animation\n",
    "import pickle\n",
    "import seaborn as sns\n",
    "\n",
    "from IPython.display import HTML\n",
    "from scipy.stats import entropy\n",
    "from innvariant_dgl.dataset import graph_to_construction_sequence, construction_sequence_to_graph, construction_sequence_evolution\n",
    "from tqdm import tqdm"
   ]
  },
  {
   "cell_type": "code",
   "execution_count": 2,
   "metadata": {},
   "outputs": [],
   "source": [
    "def create_animation(seq: list) -> animation.FuncAnimation:\n",
    "    evolution = construction_sequence_evolution(seq)\n",
    "\n",
    "    def animate(i):\n",
    "        ax.cla()\n",
    "        g_t = evolution[i]\n",
    "        nx.draw_circular(g_t, with_labels=True, ax=ax, node_color=['#FEBD69'] * g_t.number_of_nodes())\n",
    "\n",
    "    fig, ax = plt.subplots()\n",
    "    return animation.FuncAnimation(fig, animate, frames=len(evolution), interval=600)"
   ]
  },
  {
   "cell_type": "code",
   "execution_count": 3,
   "metadata": {},
   "outputs": [],
   "source": [
    "with open('deepgg-combined.pkl', 'rb') as read_handle:\n",
    "    C = pickle.load(read_handle)"
   ]
  },
  {
   "cell_type": "code",
   "execution_count": 4,
   "metadata": {},
   "outputs": [],
   "source": [
    "keys = list(C.keys())\n",
    "keys_dfs = [key for key in keys if '_dfs' in key]\n",
    "keys_bfs = [key for key in keys if '_bfs' in key]\n",
    "keys_process = [key for key in keys if '_process' in key]\n",
    "keys_erdos_renyi = [key for key in keys if 'erdos_renyi' in key]\n",
    "keys_barabasi_albert = [key for key in keys if 'barabasi_albert' in key]\n",
    "keys_watts_strogatz = [key for key in keys if 'watts_strogatz' in key]\n",
    "keys_er_and_bfs = [key for key in keys if 'erdos_renyi' in key and '_bfs' in key]\n",
    "keys_er_and_dfs = [key for key in keys if 'erdos_renyi' in key and '_dfs' in key]\n",
    "keys_ba_and_bfs = [key for key in keys if 'barabasi_albert' in key and '_bfs' in key]\n",
    "keys_ba_and_dfs = [key for key in keys if 'barabasi_albert' in key and '_dfs' in key]\n",
    "keys_ws_and_bfs = [key for key in keys if 'watts_strogatz' in key and '_bfs' in key]\n",
    "keys_ws_and_dfs = [key for key in keys if 'watts_strogatz' in key and '_dfs' in key]\n",
    "\n",
    "subsets = {\n",
    "    'Depth-First-Search': keys_dfs,\n",
    "    'Breadth-First-Search': keys_bfs,\n",
    "    'Construction Process': keys_process,\n",
    "    'Erdos-Renyi model': keys_erdos_renyi,\n",
    "    'Barabasi-Albert model': keys_barabasi_albert,\n",
    "    'Watts-Strogatz model': keys_watts_strogatz,\n",
    "    'Erdos-Renyi + BFS': keys_er_and_bfs,\n",
    "    'Erdos-Renyi + DFS': keys_er_and_dfs,\n",
    "    'Barabasi-Albert + BFS': keys_ba_and_bfs,\n",
    "    'Barabasi-Albert + DFS': keys_ba_and_dfs,\n",
    "    'Watts-Strogatz + BFS': keys_ws_and_bfs,\n",
    "    'Watts-Strogatz + DFS': keys_ws_and_dfs,\n",
    "}"
   ]
  },
  {
   "cell_type": "code",
   "execution_count": 5,
   "metadata": {},
   "outputs": [
    {
     "data": {
      "image/png": "[encoded data removed]",
      "text/plain": [
       "<Figure size 432x288 with 1 Axes>"
      ]
     },
     "metadata": {
      "needs_background": "light"
     },
     "output_type": "display_data"
    }
   ],
   "source": [
    "cs = C[keys_barabasi_albert[0]]['generated_cs'][0]\n",
    "anim = create_animation(cs)\n",
    "#HTML(anim.to_jshtml())"
   ]
  },
  {
   "cell_type": "code",
   "execution_count": 6,
   "metadata": {},
   "outputs": [
    {
     "data": {
      "image/png": "[encoded data removed]",
      "text/plain": [
       "<Figure size 432x288 with 1 Axes>"
      ]
     },
     "metadata": {
      "needs_background": "light"
     },
     "output_type": "display_data"
    }
   ],
   "source": [
    "cs = C[keys_barabasi_albert[0]]['dataset_cs'][0]\n",
    "anim = create_animation(cs)\n",
    "#HTML(anim.to_jshtml())"
   ]
  },
  {
   "cell_type": "code",
   "execution_count": 7,
   "metadata": {},
   "outputs": [
    {
     "data": {
      "image/png": "[encoded data removed]",
      "text/plain": [
       "<Figure size 432x288 with 1 Axes>"
      ]
     },
     "metadata": {
      "needs_background": "light"
     },
     "output_type": "display_data"
    }
   ],
   "source": [
    "cs = C[keys_watts_strogatz[0]]['dataset_cs'][0]\n",
    "anim = create_animation(cs)\n",
    "#HTML(anim.to_jshtml())"
   ]
  },
  {
   "cell_type": "code",
   "execution_count": 8,
   "metadata": {},
   "outputs": [
    {
     "data": {
      "image/png": "[encoded data removed]",
      "text/plain": [
       "<Figure size 432x288 with 1 Axes>"
      ]
     },
     "metadata": {
      "needs_background": "light"
     },
     "output_type": "display_data"
    }
   ],
   "source": [
    "cs = C[keys_watts_strogatz[0]]['generated_cs'][0]\n",
    "anim = create_animation(cs)\n",
    "#HTML(anim.to_jshtml())"
   ]
  },
  {
   "cell_type": "code",
   "execution_count": null,
   "metadata": {},
   "outputs": [],
   "source": []
  }
 ],
 "metadata": {
  "kernelspec": {
   "display_name": "Python 3",
   "language": "python",
   "name": "python3"
  },
  "language_info": {
   "codemirror_mode": {
    "name": "ipython",
    "version": 3
   },
   "file_extension": ".py",
   "mimetype": "text/x-python",
   "name": "python",
   "nbconvert_exporter": "python",
   "pygments_lexer": "ipython3",
   "version": "3.8.3"
  }
 },
 "nbformat": 4,
 "nbformat_minor": 4
}
